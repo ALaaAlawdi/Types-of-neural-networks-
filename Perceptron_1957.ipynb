{
  "nbformat": 4,
  "nbformat_minor": 0,
  "metadata": {
    "colab": {
      "provenance": [],
      "authorship_tag": "ABX9TyPr0aaefwN9xEjzrdrZOniV",
      "include_colab_link": true
    },
    "kernelspec": {
      "name": "python3",
      "display_name": "Python 3"
    },
    "language_info": {
      "name": "python"
    }
  },
  "cells": [
    {
      "cell_type": "markdown",
      "metadata": {
        "id": "view-in-github",
        "colab_type": "text"
      },
      "source": [
        "<a href=\"https://colab.research.google.com/github/ALaaAlawdi/Types-of-neural-networks-/blob/main/Perceptron_1957.ipynb\" target=\"_parent\"><img src=\"https://colab.research.google.com/assets/colab-badge.svg\" alt=\"Open In Colab\"/></a>"
      ]
    },
    {
      "cell_type": "code",
      "execution_count": null,
      "metadata": {
        "id": "HLq_EkIUiFyV"
      },
      "outputs": [],
      "source": [
        "import torch.nn as nn\n",
        "\n",
        "class Perceptron(nn.Module):\n",
        "    def __init__(self, input_dim):\n",
        "        super(Perceptron, self).__init__()   # Initialize the base class (nn.Module)\n",
        "        self.fc = nn.Linear(input_dim, 1)    # Define a fully connected layer with one output unit\n",
        "\n",
        "    def forward(self, x):\n",
        "        x = self.fc(x)                      # Compute the weighted sum of the inputs\n",
        "        out = torch.sigmoid(x)              # Apply the sigmoid activation function to the output\n",
        "        return out                          # Return the output value"
      ]
    }
  ]
}